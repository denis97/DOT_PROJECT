{
 "cells": [
  {
   "cell_type": "markdown",
   "metadata": {},
   "source": [
    "#  DIFFUSE OPTICAL MICROSCOPY PROJECT\n",
    "\n",
    "## Phase 1: Time domain  DOT\n",
    "\n",
    "### Objectives:\n",
    " - Obtain Formula for absorption\n",
    " - Study Contrast function\n",
    " \n",
    "### Formula on Contrast :\n",
    "\n",
    "1. write fluence  $\\phi_0(\\mu_a,\\mu_s',t) $ for an homogeneous medium:\n",
    "\n",
    "$$ \\phi_0(\\mu_a,\\mu_s',t)= \\frac{c}{(4\\pi cD t)^{3/2}}\\cdot exp(-c\\mu_a t)$$\n",
    "\n",
    "\n",
    "2. write fluence perturbation  $ \\delta \\phi_0(\\mu_a,\\mu_s',t, \\delta \\mu_a,V,\\vec{r}) $ :\n",
    "\n",
    "$$ \\delta \\phi_0(\\mu_a,\\mu_s',t, \\delta \\mu_a,V,\\vec{r}) = -\\frac{c^2}{(4\\pi D c)^{5/2} t^{3/2}} \\cdot exp(-\\mu_a c t) \\int_{V_i} \\delta \\mu_a (\\vec {r_p}) \\left(\\frac{1}{\\rho_{12}} + \\frac{1}{\\rho_{23}}\\right) exp\\left\\{-\\frac{\\left(\\rho_{12} +\\rho_{23}\\right)^2}{4cDt}\\right\\} d^3 \\vec{r_p}$$\n",
    "\n",
    "\n",
    "3. write $ C(t) \\equiv  \\delta \\phi_0\\big/ \\phi_0  $\n",
    "\n",
    "\n",
    "### Plots"
   ]
  },
  {
   "cell_type": "code",
   "execution_count": 29,
   "metadata": {},
   "outputs": [],
   "source": []
  },
  {
   "cell_type": "code",
   "execution_count": 1,
   "metadata": {},
   "outputs": [],
   "source": [
    "%matplotlib widget\n",
    "\n",
    "import matplotlib.pyplot as plt\n",
    "import matplotlib.colors\n",
    "import numpy as np\n",
    "\n"
   ]
  },
  {
   "cell_type": "code",
   "execution_count": 91,
   "metadata": {},
   "outputs": [],
   "source": [
    "c= 30 # cm/ns\n",
    "mus= 10 #cm^-1\n",
    "mua=0.1 # cm^-1\n",
    "dim=21\n",
    "D=1/(3*mus) #cm\n",
    "pi= np.pi\n",
    "t=np.linspace(0,3,10000) # ns\n",
    "t=t[1:] # ns\n",
    "V=1 #cm^3\n",
    "rp= (V*3/4)**(1/3) #cm\n",
    "\n",
    "xs,ys,zs=[0,0,0]\n",
    "xd,yd,zd= [0,0,0]\n",
    "r= np.linalg.norm([xd,yd,zd])\n",
    "xp,yp,zp=[0, 0,1]\n",
    "\n",
    "X,Y,Z= np.mgrid[-6:6:dim*1j,-6:6:dim*1j,-6:6:dim*1j]\n",
    "\n",
    "def midpoints(x):\n",
    "    sl = ()\n",
    "    for i in range(x.ndim):\n",
    "        x = (x[sl + np.index_exp[:-1]] + x[sl + np.index_exp[1:]]) / 2.0\n",
    "        sl += np.index_exp[:]\n",
    "    return x\n",
    "\n",
    "xm,ym,zm= midpoints(X), midpoints(Y),midpoints(Z)\n",
    "\n",
    "mask = (xm-xp)**2+(ym-yp)**2+(zm-zp)**2 <rp\n",
    "dmua=np.zeros(mask.shape)\n",
    "dmua[mask]=0.1 #cm^-1\n",
    "\n",
    "Phi0= (c/(4*pi*c*D*t)**(3/2))*np.exp(-(r**2/(4*D*c*t))-c*mua*t)\n",
    "\n",
    "h=X[1,0,0]-X[0,0,0]\n"
   ]
  },
  {
   "cell_type": "code",
   "execution_count": 78,
   "metadata": {},
   "outputs": [
    {
     "data": {
      "application/vnd.jupyter.widget-view+json": {
       "model_id": "13b891cb19c541858b14e3ac498f0188",
       "version_major": 2,
       "version_minor": 0
      },
      "text/plain": [
       "Canvas(toolbar=Toolbar(toolitems=[('Home', 'Reset original view', 'home', 'home'), ('Back', 'Back to previous …"
      ]
     },
     "metadata": {},
     "output_type": "display_data"
    }
   ],
   "source": [
    "fig = plt.figure()\n",
    "ax = fig.gca(projection='3d')\n",
    "ax.voxels(X, Y, Z, mask,edgecolor='k')\n",
    "\n",
    "plt.show()"
   ]
  },
  {
   "cell_type": "code",
   "execution_count": 92,
   "metadata": {},
   "outputs": [],
   "source": [
    "rho12= (xm-xs)**2+(ym-ys)**2+(zm-zs)**2\n",
    "rho23= (xm-xd)**2+(ym-yd)**2+(zm-zd)**2\n",
    "\n",
    "def sumInt(tt):\n",
    "       return [(h**3)*np.sum(dmua*(1/rho12 + 1/rho23) * np.exp(- (rho12 +rho23)**2 /(4*c*D*t))) \n",
    "               for t in tt]\n",
    "\n",
    "delPhi0= -(c**2/(4*pi*c*D)**(5/2))*(t**2/3)*np.exp(-(r**2/(4*D*c*t))-c*mua*t) * sumInt(t)\n",
    "#%%\n",
    "\n",
    "Contrast= delPhi0/Phi0"
   ]
  },
  {
   "cell_type": "code",
   "execution_count": 93,
   "metadata": {},
   "outputs": [
    {
     "data": {
      "application/vnd.jupyter.widget-view+json": {
       "model_id": "b338510dff3b43cd824d85ddb57f51f3",
       "version_major": 2,
       "version_minor": 0
      },
      "text/plain": [
       "Canvas(toolbar=Toolbar(toolitems=[('Home', 'Reset original view', 'home', 'home'), ('Back', 'Back to previous …"
      ]
     },
     "metadata": {},
     "output_type": "display_data"
    }
   ],
   "source": [
    "\n",
    "plt.close(fig2)\n",
    "\n",
    "fig2= plt.figure(figsize=(12, 9))\n",
    "ax=[]\n",
    "\n",
    "ax.append(fig2.add_subplot(311))\n",
    "ax[0].plot(t,Phi0)\n",
    "ax[0].set(ylabel=\"$ \\Phi_0 $\")\n",
    "\n",
    "\n",
    "ax.append(fig2.add_subplot(312))\n",
    "ax[1].plot(t,delPhi0)\n",
    "ax[1].set(ylabel=\"$ \\delta \\Phi_0 $\")\n",
    "\n",
    "ax.append(fig2.add_subplot(313))\n",
    "ax[2].plot(t,Contrast)\n",
    "ax[2].set(ylabel=\"$ Contrast$\")\n",
    "\n",
    "\n",
    "fig2.show()"
   ]
  },
  {
   "cell_type": "code",
   "execution_count": null,
   "metadata": {},
   "outputs": [],
   "source": []
  }
 ],
 "metadata": {
  "kernelspec": {
   "display_name": "Python 3",
   "language": "python",
   "name": "python3"
  },
  "language_info": {
   "codemirror_mode": {
    "name": "ipython",
    "version": 3
   },
   "file_extension": ".py",
   "mimetype": "text/x-python",
   "name": "python",
   "nbconvert_exporter": "python",
   "pygments_lexer": "ipython3",
   "version": "3.7.9"
  }
 },
 "nbformat": 4,
 "nbformat_minor": 4
}
